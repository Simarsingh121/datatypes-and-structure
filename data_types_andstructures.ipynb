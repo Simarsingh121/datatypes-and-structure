{
  "nbformat": 4,
  "nbformat_minor": 0,
  "metadata": {
    "colab": {
      "provenance": []
    },
    "kernelspec": {
      "name": "python3",
      "display_name": "Python 3"
    },
    "language_info": {
      "name": "python"
    }
  },
  "cells": [
    {
      "cell_type": "code",
      "execution_count": null,
      "metadata": {
        "id": "k5PuyN4KqyOR"
      },
      "outputs": [],
      "source": []
    },
    {
      "cell_type": "markdown",
      "source": [
        "# **Data Types and Structures Questions**"
      ],
      "metadata": {
        "id": "uSu0jhNTq5Xj"
      }
    },
    {
      "cell_type": "markdown",
      "source": [
        "Q1. What are data structures, and why are they important?\n",
        " - Data structures are ways of organizing and storing data for efficient access and modification. They are important because they improve performance, memory usage, and problem-solving efficiency.\n",
        "\n",
        "2. Explain the difference between mutable and immutable data types with examples.\n",
        " - Mutable → can be changed after creation (e.g., list, dict, set).\n",
        "\n",
        " - Immutable → cannot be changed (e.g., str, tuple, int).\n",
        "\n",
        "Q3. What are the main differences between lists and tuples in Python?\n",
        " - Lists are mutable, slower, and use [].\n",
        "\n",
        " - Tuples are immutable, faster, and use ().\n",
        "\n",
        "Q4. Describe how dictionaries store data.\n",
        " - Dictionaries store data in key-value pairs. Each key is unique, and keys are hashed internally for fast lookup.\n",
        "\n",
        "Q5. Why might you use a set instead of a list in Python?\n",
        " - Use a set when you want unique elements only and need fast membership checks (in operation).\n",
        "\n",
        "Q6. What is a string in Python, and how is it different from a list?\n",
        " - A string is an immutable sequence of characters, while a list is a mutable sequence of elements that can hold different types.\n",
        "\n",
        "Q7. How do tuples ensure data integrity in Python?\n",
        " - Since tuples are immutable, their contents cannot be changed, ensuring stored data remains constant and safe.\n",
        "\n",
        "Q8. What is a hash table, and how does it relate to dictionaries in Python?\n",
        " - A hash table is a data structure that maps keys to values using a hash function. Python dictionaries are implemented using hash tables.\n",
        "\n",
        "Q9. Can lists contain different data types in Python?\n",
        " - Yes, a list can contain integers, strings, floats, or even other lists together. Example: [1, \"hello\", 3.5].\n",
        "\n",
        "Q10. Explain why strings are immutable in Python.\n",
        " - Strings are immutable to make them safe for sharing, hashing, and reusing in memory\n",
        "\n",
        "Q11. What advantages do dictionaries offer over lists for certain tasks?\n",
        " - Dictionaries let you find items quickly using keys, unlike lists which take longer to search.\n",
        "\n",
        "Q12. Describe a scenario where using a tuple would be preferable over a list.\n",
        " - When storing data that should not change, like coordinates (x, y) or fixed records.\n",
        "\n",
        "Q13. How do sets handle duplicate values in Python?\n",
        " - Sets automatically remove duplicates and only keep unique items.\n",
        "\n",
        "Q14. How does the “in” keyword work differently for lists and dictionaries?\n",
        " - List → checks if an item exists.\n",
        "\n",
        "- Dictionary → checks if a key exists.\n",
        "\n",
        "Q15. Can you modify the elements of a tuple? Explain why or why not.\n",
        " - No, tuples are immutable. Once created, their elements cannot be added, removed, or changed.\n",
        "  \n",
        "Q16. What is a nested dictionary, and give an example of its use case.\n",
        " - A dictionary inside another dictionary. Example:\n",
        "\n",
        "- students = {\"John\": {\"age\": 20, \"grade\": \"A\"}}\n",
        "\n",
        "Q17. Describe the time complexity of accessing elements in a dictionary.\n",
        " - Average-case: O(1) due to hashing.\n",
        "-Worst-case (hash collisions): O(n).\n",
        "\n",
        "Q18. In what situations are lists preferred over dictionaries?\n",
        "- When order matters, duplicates are needed, or you want simple sequential data.\n",
        "\n",
        "Q19. Why are dictionaries considered unordered, and how does that affect data retrieval?\n",
        "- Before Python 3.7, dictionaries had no guaranteed order; retrieval was only by key, not position. Since 3.7, insertion order is preserved but still accessed via keys.\n",
        "\n",
        "Q20. Explain the difference between a list and a dictionary in terms of data retrieval.\n",
        "\n",
        "- List → retrieval by index (position).\n",
        "\n",
        "- Dictionary → retrieval by key (name/identifier\n",
        "\n",
        "\n"
      ],
      "metadata": {
        "id": "iRplaJzNrm0P"
      }
    },
    {
      "cell_type": "markdown",
      "source": [
        "# **Practical Questions**"
      ],
      "metadata": {
        "id": "qPdEDnjkuk6Y"
      }
    },
    {
      "cell_type": "code",
      "source": [
        "#Q1. Create a string with your name and print it\n",
        "name = \"Simar\"\n",
        "print(name)\n"
      ],
      "metadata": {
        "colab": {
          "base_uri": "https://localhost:8080/"
        },
        "id": "QNrAT_w-uhNB",
        "outputId": "06fdc496-b0dd-4339-b3c8-a5bd2af3c8d2"
      },
      "execution_count": 1,
      "outputs": [
        {
          "output_type": "stream",
          "name": "stdout",
          "text": [
            "Simar\n"
          ]
        }
      ]
    },
    {
      "cell_type": "code",
      "source": [
        "#Q2. Find the length of the string \"Hello World\"\n",
        "text = \"Hello World\"\n",
        "print(len(text))\n"
      ],
      "metadata": {
        "colab": {
          "base_uri": "https://localhost:8080/"
        },
        "id": "uxX3OXCgvEWu",
        "outputId": "f28f3e76-6551-4109-e09f-6b039d8ec71f"
      },
      "execution_count": 2,
      "outputs": [
        {
          "output_type": "stream",
          "name": "stdout",
          "text": [
            "11\n"
          ]
        }
      ]
    },
    {
      "cell_type": "code",
      "source": [
        "#Q3. Slice the first 3 characters from the string \"Python Programming\"\n",
        "text = \"Python Programming\"\n",
        "print(text[:3])\n"
      ],
      "metadata": {
        "colab": {
          "base_uri": "https://localhost:8080/"
        },
        "id": "0oZrLb7AvMWH",
        "outputId": "e8baf678-6f16-419a-c2ed-c054833415f9"
      },
      "execution_count": 3,
      "outputs": [
        {
          "output_type": "stream",
          "name": "stdout",
          "text": [
            "Pyt\n"
          ]
        }
      ]
    },
    {
      "cell_type": "code",
      "source": [
        "# Q4 Convert the string \"hello\" to uppercase\n",
        "text = \"hello\"\n",
        "print(text.upper())\n"
      ],
      "metadata": {
        "colab": {
          "base_uri": "https://localhost:8080/"
        },
        "id": "Dvqj5S1ivi08",
        "outputId": "f968516c-b17f-4b33-df65-4bffebff8304"
      },
      "execution_count": 4,
      "outputs": [
        {
          "output_type": "stream",
          "name": "stdout",
          "text": [
            "HELLO\n"
          ]
        }
      ]
    },
    {
      "cell_type": "code",
      "source": [
        "#Q5. Replace the word \"apple\" with \"orange\" in \"I like apple\"\n",
        "text = \"I like apple\"\n",
        "print(text.replace(\"apple\", \"orange\"))\n"
      ],
      "metadata": {
        "colab": {
          "base_uri": "https://localhost:8080/"
        },
        "id": "kf8fq1FbvryT",
        "outputId": "0a57037d-4cec-4589-c705-defae0fdc6da"
      },
      "execution_count": 5,
      "outputs": [
        {
          "output_type": "stream",
          "name": "stdout",
          "text": [
            "I like orange\n"
          ]
        }
      ]
    },
    {
      "cell_type": "code",
      "source": [
        "#Q6. Create a list with numbers 1 to 5 and print it\n",
        "numbers = [1, 2, 3, 4, 5]\n",
        "print(numbers)\n"
      ],
      "metadata": {
        "colab": {
          "base_uri": "https://localhost:8080/"
        },
        "id": "eyWxkk9Svrzw",
        "outputId": "b23a40aa-5330-4f2a-a0e8-f9ad1eb28b60"
      },
      "execution_count": 6,
      "outputs": [
        {
          "output_type": "stream",
          "name": "stdout",
          "text": [
            "[1, 2, 3, 4, 5]\n"
          ]
        }
      ]
    },
    {
      "cell_type": "code",
      "source": [
        "#Q7. Append the number 10 to the list [1, 2, 3, 4]\n",
        "numbers = [1, 2, 3, 4]\n",
        "numbers.append(10)\n",
        "print(numbers)\n"
      ],
      "metadata": {
        "colab": {
          "base_uri": "https://localhost:8080/"
        },
        "id": "Jb_Geet6v5El",
        "outputId": "f79f71e8-f77e-47c4-9fac-9c4926333a02"
      },
      "execution_count": 7,
      "outputs": [
        {
          "output_type": "stream",
          "name": "stdout",
          "text": [
            "[1, 2, 3, 4, 10]\n"
          ]
        }
      ]
    },
    {
      "cell_type": "code",
      "source": [
        "#Q8. Remove the number 3 from the list [1, 2, 3, 4, 5]\n",
        "numbers = [1, 2, 3, 4, 5]\n",
        "numbers.remove(3)\n",
        "print(numbers)\n"
      ],
      "metadata": {
        "colab": {
          "base_uri": "https://localhost:8080/"
        },
        "id": "gVJmbtqJv5QL",
        "outputId": "484ab0bf-b762-4ad9-a100-1642752bb4f8"
      },
      "execution_count": 8,
      "outputs": [
        {
          "output_type": "stream",
          "name": "stdout",
          "text": [
            "[1, 2, 4, 5]\n"
          ]
        }
      ]
    },
    {
      "cell_type": "code",
      "source": [
        "#Q9. Access the second element in the list ['a', 'b', 'c', 'd']\n",
        "letters = ['a', 'b', 'c', 'd']\n",
        "print(letters[1])\n"
      ],
      "metadata": {
        "colab": {
          "base_uri": "https://localhost:8080/"
        },
        "id": "53kk9U-dv5Ry",
        "outputId": "3695f705-f58d-4b39-8d92-fa648493d9c4"
      },
      "execution_count": 9,
      "outputs": [
        {
          "output_type": "stream",
          "name": "stdout",
          "text": [
            "b\n"
          ]
        }
      ]
    },
    {
      "cell_type": "code",
      "source": [
        "#Q10. Reverse the list [10, 20, 30, 40, 50]\n",
        "numbers = [10, 20, 30, 40, 50]\n",
        "numbers.reverse()\n",
        "print(numbers)\n"
      ],
      "metadata": {
        "colab": {
          "base_uri": "https://localhost:8080/"
        },
        "id": "8yTzPK8_v5Vm",
        "outputId": "6ac5bb34-9dc3-4dad-e7a2-5d987b44f386"
      },
      "execution_count": 10,
      "outputs": [
        {
          "output_type": "stream",
          "name": "stdout",
          "text": [
            "[50, 40, 30, 20, 10]\n"
          ]
        }
      ]
    },
    {
      "cell_type": "code",
      "source": [
        "#Q11. Create a tuple with the elements 100, 200, 300 and print it\n",
        "numbers = (100, 200, 300)\n",
        "print(numbers)\n",
        "\n"
      ],
      "metadata": {
        "colab": {
          "base_uri": "https://localhost:8080/"
        },
        "id": "zLD1yD8tv5XN",
        "outputId": "b258896d-3248-48b8-c164-eefab6cc2c05"
      },
      "execution_count": 11,
      "outputs": [
        {
          "output_type": "stream",
          "name": "stdout",
          "text": [
            "(100, 200, 300)\n"
          ]
        }
      ]
    },
    {
      "cell_type": "code",
      "source": [
        "#Q12. Access the second-to-last element of the tuple\n",
        "colors = ('red', 'green', 'blue', 'yellow')\n",
        "print(colors[-2])\n"
      ],
      "metadata": {
        "colab": {
          "base_uri": "https://localhost:8080/"
        },
        "id": "zCvFhd4Gv5bi",
        "outputId": "2a64c492-f040-4931-acca-fa2a005afa85"
      },
      "execution_count": 12,
      "outputs": [
        {
          "output_type": "stream",
          "name": "stdout",
          "text": [
            "blue\n"
          ]
        }
      ]
    },
    {
      "cell_type": "code",
      "source": [
        "#Q13. Find the minimum number in the tuple (10, 20, 5, 15)\n",
        "numbers = (10, 20, 5, 15)\n",
        "print(min(numbers))"
      ],
      "metadata": {
        "colab": {
          "base_uri": "https://localhost:8080/"
        },
        "id": "bObZADSOw1qE",
        "outputId": "547839c7-3284-446e-916a-4275f431ff79"
      },
      "execution_count": 13,
      "outputs": [
        {
          "output_type": "stream",
          "name": "stdout",
          "text": [
            "5\n"
          ]
        }
      ]
    },
    {
      "cell_type": "code",
      "source": [
        "#Q14. Find the index of the element \"cat\" in the tuple\n",
        "animals = ('dog', 'cat', 'rabbit')\n",
        "print(animals.index(\"cat\"))\n"
      ],
      "metadata": {
        "colab": {
          "base_uri": "https://localhost:8080/"
        },
        "id": "sphdQoDaw11k",
        "outputId": "0637152a-4f7a-4aa5-ede2-ef109c5ef6b2"
      },
      "execution_count": 14,
      "outputs": [
        {
          "output_type": "stream",
          "name": "stdout",
          "text": [
            "1\n"
          ]
        }
      ]
    },
    {
      "cell_type": "code",
      "source": [
        "#Q15. Create a tuple containing three fruits and check if \"kiwi\" is in it\n",
        "fruits = ('apple', 'banana', 'mango')\n",
        "print(\"kiwi\" in fruits)\n"
      ],
      "metadata": {
        "colab": {
          "base_uri": "https://localhost:8080/"
        },
        "id": "GwkjPvzDw13G",
        "outputId": "e03cc824-9483-40e8-febe-b99a6053846b"
      },
      "execution_count": 15,
      "outputs": [
        {
          "output_type": "stream",
          "name": "stdout",
          "text": [
            "False\n"
          ]
        }
      ]
    },
    {
      "cell_type": "code",
      "source": [
        "#Q16. Create a set with the elements 'a', 'b', 'c' and print it\n",
        "letters = {'a', 'b', 'c'}\n",
        "print(letters)\n"
      ],
      "metadata": {
        "colab": {
          "base_uri": "https://localhost:8080/"
        },
        "id": "6jLk31sLw16h",
        "outputId": "3e2ad4eb-239e-40a0-eb59-b8af5f21a7d5"
      },
      "execution_count": 16,
      "outputs": [
        {
          "output_type": "stream",
          "name": "stdout",
          "text": [
            "{'b', 'a', 'c'}\n"
          ]
        }
      ]
    },
    {
      "cell_type": "code",
      "source": [
        "#Q17. Clear all elements from the set {1, 2, 3, 4, 5}\n",
        "numbers = {1, 2, 3, 4, 5}\n",
        "numbers.clear()\n",
        "print(numbers)\n"
      ],
      "metadata": {
        "colab": {
          "base_uri": "https://localhost:8080/"
        },
        "id": "Cq9qGVV1w18J",
        "outputId": "b0c0643e-61fb-4b3e-e475-8311c3d33021"
      },
      "execution_count": 17,
      "outputs": [
        {
          "output_type": "stream",
          "name": "stdout",
          "text": [
            "set()\n"
          ]
        }
      ]
    },
    {
      "cell_type": "code",
      "source": [
        "#Q18. Remove the element 4 from the set {1, 2, 3, 4}\n",
        "numbers = {1, 2, 3, 4}\n",
        "numbers.remove(4)\n",
        "print(numbers)\n"
      ],
      "metadata": {
        "colab": {
          "base_uri": "https://localhost:8080/"
        },
        "id": "KRfIAsAyw1_d",
        "outputId": "118ddba7-432d-4737-bce5-9bbbb5a24f73"
      },
      "execution_count": 18,
      "outputs": [
        {
          "output_type": "stream",
          "name": "stdout",
          "text": [
            "{1, 2, 3}\n"
          ]
        }
      ]
    },
    {
      "cell_type": "code",
      "source": [
        "#Q19. Find the union of two sets {1, 2, 3} and {3, 4, 5}\n",
        "set1 = {1, 2, 3}\n",
        "set2 = {3, 4, 5}\n",
        "print(set1.union(set2))\n"
      ],
      "metadata": {
        "colab": {
          "base_uri": "https://localhost:8080/"
        },
        "id": "nGOYC5siw2BU",
        "outputId": "3c658603-cfd2-4101-c217-eeafb2866041"
      },
      "execution_count": 19,
      "outputs": [
        {
          "output_type": "stream",
          "name": "stdout",
          "text": [
            "{1, 2, 3, 4, 5}\n"
          ]
        }
      ]
    },
    {
      "cell_type": "code",
      "source": [
        "#Q20. Find the intersection of two sets {1, 2, 3} and {2, 3, 4}\n",
        "set1 = {1, 2, 3}\n",
        "set2 = {2, 3, 4}\n",
        "print(set1.intersection(set2))\n"
      ],
      "metadata": {
        "colab": {
          "base_uri": "https://localhost:8080/"
        },
        "id": "79825mA0w2Ec",
        "outputId": "052b6b58-7ddf-4251-9bc2-2b4ca6ff7c6e"
      },
      "execution_count": 20,
      "outputs": [
        {
          "output_type": "stream",
          "name": "stdout",
          "text": [
            "{2, 3}\n"
          ]
        }
      ]
    },
    {
      "cell_type": "code",
      "source": [
        "#Q21. Create a dictionary with keys \"name\", \"age\", and \"city\" and print it\n",
        "person = {\"name\": \"Alice\", \"age\": 25, \"city\": \"Paris\"}\n",
        "print(person)\n"
      ],
      "metadata": {
        "colab": {
          "base_uri": "https://localhost:8080/"
        },
        "id": "XsNtwVVNw2Gb",
        "outputId": "661f5f3f-e978-4c7a-b567-6511818c6338"
      },
      "execution_count": 21,
      "outputs": [
        {
          "output_type": "stream",
          "name": "stdout",
          "text": [
            "{'name': 'Alice', 'age': 25, 'city': 'Paris'}\n"
          ]
        }
      ]
    },
    {
      "cell_type": "code",
      "source": [
        "#Q22. Add a new key-value pair \"country\": \"USA\" to the dictionary\n",
        "person = {'name': 'John', 'age': 25}\n",
        "person['country'] = 'USA'\n",
        "print(person)\n"
      ],
      "metadata": {
        "colab": {
          "base_uri": "https://localhost:8080/"
        },
        "id": "0eE2xk1Fw2Jc",
        "outputId": "3a60b7d6-5a16-4967-dc71-dae00ff5e789"
      },
      "execution_count": 22,
      "outputs": [
        {
          "output_type": "stream",
          "name": "stdout",
          "text": [
            "{'name': 'John', 'age': 25, 'country': 'USA'}\n"
          ]
        }
      ]
    },
    {
      "cell_type": "code",
      "source": [
        "#Q23. Access the value associated with the key \"name\"\n",
        "person = {'name': 'Alice', 'age': 30}\n",
        "print(person['name'])\n"
      ],
      "metadata": {
        "colab": {
          "base_uri": "https://localhost:8080/"
        },
        "id": "CuHZZLJJw2ML",
        "outputId": "8ac1692f-e5f6-4bd7-92d3-a375bc18165b"
      },
      "execution_count": 23,
      "outputs": [
        {
          "output_type": "stream",
          "name": "stdout",
          "text": [
            "Alice\n"
          ]
        }
      ]
    },
    {
      "cell_type": "code",
      "source": [
        "#Q24. Remove the key \"age\" from the dictionary\n",
        "person = {'name': 'Bob', 'age': 22, 'city': 'New York'}\n",
        "person.pop('age')\n",
        "print(person)\n"
      ],
      "metadata": {
        "colab": {
          "base_uri": "https://localhost:8080/"
        },
        "id": "JvRly44Jw2PI",
        "outputId": "1b626a07-1e14-4c78-aaba-4cae60f99b36"
      },
      "execution_count": 24,
      "outputs": [
        {
          "output_type": "stream",
          "name": "stdout",
          "text": [
            "{'name': 'Bob', 'city': 'New York'}\n"
          ]
        }
      ]
    },
    {
      "cell_type": "code",
      "source": [
        "#Q25. Check if the key \"city\" exists in the dictionary\n",
        "person = {'name': 'Alice', 'city': 'Paris'}\n",
        "print('city' in person)\n"
      ],
      "metadata": {
        "colab": {
          "base_uri": "https://localhost:8080/"
        },
        "id": "o4lhq6hMx-PN",
        "outputId": "0b768a45-f83e-4024-cc1f-5272b5e35217"
      },
      "execution_count": 25,
      "outputs": [
        {
          "output_type": "stream",
          "name": "stdout",
          "text": [
            "True\n"
          ]
        }
      ]
    },
    {
      "cell_type": "code",
      "source": [
        "#Q26. Create a list, a tuple, and a dictionary, and print them\n",
        "my_list = [1, 2, 3]\n",
        "my_tuple = (4, 5, 6)\n",
        "my_dict = {'a': 10, 'b': 20}\n",
        "print(my_list, my_tuple, my_dict)\n"
      ],
      "metadata": {
        "colab": {
          "base_uri": "https://localhost:8080/"
        },
        "id": "XCi6Kd4syB1A",
        "outputId": "5a1aab6d-fc45-4a7b-8b51-8f13fbf1cfbd"
      },
      "execution_count": 26,
      "outputs": [
        {
          "output_type": "stream",
          "name": "stdout",
          "text": [
            "[1, 2, 3] (4, 5, 6) {'a': 10, 'b': 20}\n"
          ]
        }
      ]
    },
    {
      "cell_type": "code",
      "source": [
        "#Q27. Create a list of 5 random numbers between 1 and 100, sort it, and print\n",
        "import random\n",
        "numbers = [random.randint(1, 100) for _ in range(5)]\n",
        "numbers.sort()\n",
        "print(numbers)\n"
      ],
      "metadata": {
        "colab": {
          "base_uri": "https://localhost:8080/"
        },
        "id": "gc6crIrDyKFd",
        "outputId": "93e9f432-c7a8-4491-9b4a-bd4ea56c5a38"
      },
      "execution_count": 27,
      "outputs": [
        {
          "output_type": "stream",
          "name": "stdout",
          "text": [
            "[27, 30, 60, 61, 61]\n"
          ]
        }
      ]
    },
    {
      "cell_type": "code",
      "source": [
        "#Q28. Create a list with strings and print the element at the third index\n",
        "words = ['apple', 'banana', 'cherry', 'date', 'fig']\n",
        "print(words[3])\n"
      ],
      "metadata": {
        "colab": {
          "base_uri": "https://localhost:8080/"
        },
        "id": "Ww5zrHfzyKHJ",
        "outputId": "18bc430b-aa40-42af-fbfc-117602ac2fdb"
      },
      "execution_count": 28,
      "outputs": [
        {
          "output_type": "stream",
          "name": "stdout",
          "text": [
            "date\n"
          ]
        }
      ]
    },
    {
      "cell_type": "code",
      "source": [
        "#Q29. Combine two dictionaries into one and print the result\n",
        "dict1 = {'a': 1, 'b': 2}\n",
        "dict2 = {'c': 3, 'd': 4}\n",
        "combined = {**dict1, **dict2}\n",
        "print(combined)\n"
      ],
      "metadata": {
        "colab": {
          "base_uri": "https://localhost:8080/"
        },
        "id": "2jE8BeK6yKLk",
        "outputId": "23bf7f38-1528-4272-b96a-e6784c15498e"
      },
      "execution_count": 29,
      "outputs": [
        {
          "output_type": "stream",
          "name": "stdout",
          "text": [
            "{'a': 1, 'b': 2, 'c': 3, 'd': 4}\n"
          ]
        }
      ]
    },
    {
      "cell_type": "code",
      "source": [
        "#Q30. Convert a list of strings into a set\n",
        "fruits = ['apple', 'banana', 'apple', 'mango']\n",
        "unique_fruits = set(fruits)\n",
        "print(unique_fruits)\n"
      ],
      "metadata": {
        "colab": {
          "base_uri": "https://localhost:8080/"
        },
        "id": "c5y6aQETyg1v",
        "outputId": "764c948a-6567-4060-854e-9cdc7cd070ed"
      },
      "execution_count": 30,
      "outputs": [
        {
          "output_type": "stream",
          "name": "stdout",
          "text": [
            "{'apple', 'mango', 'banana'}\n"
          ]
        }
      ]
    }
  ]
}